{
 "cells": [
  {
   "cell_type": "markdown",
   "id": "5ed357f5",
   "metadata": {
    "slideshow": {
     "slide_type": "slide"
    }
   },
   "source": [
    "### Email Spam Detection\n",
    "\n",
    "Jacob Harris \\\n",
    "DASC 5303"
   ]
  },
  {
   "cell_type": "markdown",
   "id": "4ffdd817",
   "metadata": {
    "slideshow": {
     "slide_type": "slide"
    }
   },
   "source": [
    "#### Project Overview\n",
    "\n",
    "The data used for this project comes from emails sent to and from employees of the company Enron. This data set was made available to the public and contains over 500,000 emails. This project uses a small subset to give a new method to filter out spam emails based on word counts found in each email."
   ]
  },
  {
   "cell_type": "markdown",
   "id": "2febc8a5",
   "metadata": {
    "slideshow": {
     "slide_type": "slide"
    }
   },
   "source": [
    "### Data Overview\n",
    "\n",
    "The data comes as a .tar.gz compressed file and needs to be unzipped in order to read each .txt file containing the email. In order to do so, a few libraries are needed."
   ]
  },
  {
   "cell_type": "code",
   "execution_count": 1,
   "id": "0202505d",
   "metadata": {
    "slideshow": {
     "slide_type": "fragment"
    }
   },
   "outputs": [],
   "source": [
    "import pandas as pd\n",
    "import numpy as np\n",
    "import matplotlib.pyplot as plt\n",
    "import seaborn as sns\n",
    "import tarfile\n",
    "import os\n",
    "import re\n",
    "\n",
    "from sklearn.model_selection import train_test_split\n",
    "from sklearn import metrics\n",
    "from scipy.spatial.distance import cdist\n",
    "from scipy.special import iv\n",
    "from sklearn.linear_model import LogisticRegression"
   ]
  },
  {
   "cell_type": "markdown",
   "id": "46a345a4",
   "metadata": {
    "slideshow": {
     "slide_type": "slide"
    }
   },
   "source": [
    "### Data Preprocessing\n",
    "The following code opens the .tar.gz file and reads each .txt file containing the text from the emails. The spam emails are seperated from the non-spam in the original file and two pandas dataframes are created."
   ]
  },
  {
   "cell_type": "code",
   "execution_count": 2,
   "id": "068ff534",
   "metadata": {
    "slideshow": {
     "slide_type": "subslide"
    }
   },
   "outputs": [],
   "source": [
    "tar_file = '/Users/admin/Desktop/Grad School/DataSciComp/Project/enron1.tar.gz'\n",
    "extracted_folder = 'extracted_files'  # Folder where files will be extracted\n",
    "\n",
    "with tarfile.open(tar_file, 'r:gz') as tar:\n",
    "    tar.extractall(path=extracted_folder)\n",
    "\n",
    "# Create lists to hold the email data for each folder (ham and spam)\n",
    "ham_emails = []\n",
    "spam_emails = []\n",
    "\n",
    "# Iterate through the extracted files (specifically looking in 'ham' and 'spam' subfolders)\n",
    "for root, dirs, files in os.walk(os.path.join(extracted_folder, 'enron1')):  # Look inside 'enron1'\n",
    "    for file in files:\n",
    "        if file.endswith('.txt'):  # Only process .txt files\n",
    "            # Get the full path of the file\n",
    "            file_path = os.path.join(root, file)\n",
    "\n",
    "            # Check which subfolder this file belongs to ('ham' or 'spam')\n",
    "            if 'ham' in root:  # If file is in the 'ham' folder\n",
    "                folder_name = 'ham'\n",
    "                ham_emails.append(file_path)  # Store the file path for now\n",
    "            elif 'spam' in root:  # If file is in the 'spam' folder\n",
    "                folder_name = 'spam'\n",
    "                spam_emails.append(file_path)  # Store the file path for now"
   ]
  },
  {
   "cell_type": "code",
   "execution_count": 3,
   "id": "903e4cf7",
   "metadata": {
    "slideshow": {
     "slide_type": "subslide"
    }
   },
   "outputs": [
    {
     "name": "stdout",
     "output_type": "stream",
     "text": [
      "Rows in df_ham: 3672\n",
      "Rows in df_spam: 1500\n"
     ]
    }
   ],
   "source": [
    "# Read the content of each .txt file and add it to the respective list\n",
    "ham_email_texts = []\n",
    "spam_email_texts = []\n",
    "# Process 'ham' emails\n",
    "for file_path in ham_emails:\n",
    "    with open(file_path, 'r', encoding='iso-8859-1') as f:\n",
    "        email_content = f.read().strip()  # Read and strip any extra spaces/newlines\n",
    "        ham_email_texts.append(email_content)\n",
    "# Process 'spam' emails\n",
    "for file_path in spam_emails:\n",
    "    with open(file_path, 'r', encoding='iso-8859-1') as f:\n",
    "        email_content = f.read().strip()  # Read and strip any extra spaces/newlines\n",
    "        spam_email_texts.append(email_content)\n",
    "\n",
    "# Create two separate pandas DataFrames for each folder\n",
    "df_ham = pd.DataFrame(ham_email_texts, columns=['Email_Body'])\n",
    "df_spam = pd.DataFrame(spam_email_texts, columns=['Email_Body'])\n",
    "\n",
    "# Check the number of rows in each DataFrame\n",
    "print(f\"Rows in df_ham: {len(df_ham)}\")\n",
    "print(f\"Rows in df_spam: {len(df_spam)}\")"
   ]
  },
  {
   "cell_type": "markdown",
   "id": "c12aefe7",
   "metadata": {
    "slideshow": {
     "slide_type": "subslide"
    }
   },
   "source": [
    "In order to identify spam and non-spam, a new column of 1 or 0 is created for each data frame."
   ]
  },
  {
   "cell_type": "code",
   "execution_count": 4,
   "id": "8a8b5ca6",
   "metadata": {
    "slideshow": {
     "slide_type": "fragment"
    }
   },
   "outputs": [
    {
     "data": {
      "text/plain": [
       "\"Subject: ena sales on hpl\\njust to update you on this project ' s status :\\nbased on a new report that scott mills ran for me from sitara , i have come up\\nwith the following counterparties as the ones to which ena is selling gas off\\nof hpl ' s pipe .\\naltrade transaction , l . l . c . gulf gas utilities company\\nbrazoria , city of panther pipeline , inc .\\ncentral illinois light company praxair , inc .\\ncentral power and light company reliant energy - entex\\nces - equistar chemicals , lp reliant energy - hl & p\\ncorpus christi gas marketing , lp southern union company\\nd & h gas company , inc . texas utilities fuel company\\nduke energy field services , inc . txu gas distribution\\nentex gas marketing company union carbide corporation\\nequistar chemicals , lp unit gas transmission company inc .\\nsince i ' m not sure exactly what gets entered into sitara , pat clynes\\nsuggested that i check with daren farmer to make sure that i ' m not missing\\nsomething ( which i did below ) . while i am waiting for a response from him\\nand / or mary smith , i will begin gathering the contractual volumes under the\\nabove contracts .\\n- - - - - - - - - - - - - - - - - - - - - - forwarded by cheryl dudley / hou / ect on 05 / 10 / 2000 07 : 56\\nam - - - - - - - - - - - - - - - - - - - - - - - - - - -\\ncheryl d king\\n05 / 08 / 2000 04 : 11 pm\\nsent by : cheryl dudley\\nto : daren j farmer / hou / ect @ ect , mary m smith / hou / ect @ ect\\ncc :\\nsubject : ena sales on hpl\\ni am working on a project for brenda herod & was wondering if one of you\\ncould tell me if i ' m on the right track & if this will get everything for\\nwhich she is looking .\\nshe is trying to draft a long - term transport / storage agreement between ena &\\nhplc which will allow ena to move the gas to their markets . in order to\\naccomplish this , she needs to know all of the sales to customers that ena is\\ndoing off of hpl ' s pipe .\\ni had scott mills run a report from sitara showing all ena buy / sell activity\\non hpl since 7 / 99 . if i eliminate the buys & the desk - to - desk deals , will\\nthis give me everything that i need ?\\nare there buy / sell deals done with ena on hpl ' s pipe that wouldn ' t show up in\\nsitara ? someone mentioned something about deals where hpl transports the gas\\non it ' s own behalf then ena sells it to a customer at that same spot - -\\n? ? ? ? ? do deals like that happen ? would they show up in sitara ?\\nis there anything else that i ' m missing ? i ' m not real familiar with how some\\nof these deals happen nowadays so am very receptive to any\\nideas / suggestions / help that you can offer ! ! !\\nthanks in advance .\""
      ]
     },
     "execution_count": 4,
     "metadata": {},
     "output_type": "execute_result"
    }
   ],
   "source": [
    "df_ham['Spam_Classification'] = 0\n",
    "df_spam['Spam_Classification'] = 1\n",
    "emails = pd.concat([df_ham,df_spam])\n",
    "emails.iloc[0,0]"
   ]
  },
  {
   "cell_type": "markdown",
   "id": "71752bf7",
   "metadata": {
    "slideshow": {
     "slide_type": "slide"
    }
   },
   "source": [
    "### Text Processing\n",
    "\n",
    "In order to use a bag of words approach, the subject line in each email need to be removed and extra characters or punctuation need to be stripped"
   ]
  },
  {
   "cell_type": "markdown",
   "id": "8c14fa00",
   "metadata": {
    "slideshow": {
     "slide_type": "subslide"
    }
   },
   "source": [
    "First, each email is split on a newline character and the first line containing the subject is removed"
   ]
  },
  {
   "cell_type": "code",
   "execution_count": 5,
   "id": "3f65f1c2",
   "metadata": {
    "slideshow": {
     "slide_type": "fragment"
    }
   },
   "outputs": [
    {
     "data": {
      "text/html": [
       "<div>\n",
       "<style scoped>\n",
       "    .dataframe tbody tr th:only-of-type {\n",
       "        vertical-align: middle;\n",
       "    }\n",
       "\n",
       "    .dataframe tbody tr th {\n",
       "        vertical-align: top;\n",
       "    }\n",
       "\n",
       "    .dataframe thead th {\n",
       "        text-align: right;\n",
       "    }\n",
       "</style>\n",
       "<table border=\"1\" class=\"dataframe\">\n",
       "  <thead>\n",
       "    <tr style=\"text-align: right;\">\n",
       "      <th></th>\n",
       "      <th>Email_Body</th>\n",
       "      <th>Spam_Classification</th>\n",
       "    </tr>\n",
       "  </thead>\n",
       "  <tbody>\n",
       "    <tr>\n",
       "      <th>0</th>\n",
       "      <td>just to update you on this project ' s status ...</td>\n",
       "      <td>0</td>\n",
       "    </tr>\n",
       "    <tr>\n",
       "      <th>1</th>\n",
       "      <td>the above referenced meters need to be placed ...</td>\n",
       "      <td>0</td>\n",
       "    </tr>\n",
       "    <tr>\n",
       "      <th>2</th>\n",
       "      <td>( see attached file : hpll 228 . xls )\\n- hpll...</td>\n",
       "      <td>0</td>\n",
       "    </tr>\n",
       "    <tr>\n",
       "      <th>3</th>\n",
       "      <td>daren ,\\nit ' s in .\\nbob\\n- - - - - - - - - -...</td>\n",
       "      <td>0</td>\n",
       "    </tr>\n",
       "    <tr>\n",
       "      <th>4</th>\n",
       "      <td>daren ,\\nfyi .\\nbob\\n- - - - - - - - - - - - -...</td>\n",
       "      <td>0</td>\n",
       "    </tr>\n",
       "  </tbody>\n",
       "</table>\n",
       "</div>"
      ],
      "text/plain": [
       "                                          Email_Body  Spam_Classification\n",
       "0  just to update you on this project ' s status ...                    0\n",
       "1  the above referenced meters need to be placed ...                    0\n",
       "2  ( see attached file : hpll 228 . xls )\\n- hpll...                    0\n",
       "3  daren ,\\nit ' s in .\\nbob\\n- - - - - - - - - -...                    0\n",
       "4  daren ,\\nfyi .\\nbob\\n- - - - - - - - - - - - -...                    0"
      ]
     },
     "execution_count": 5,
     "metadata": {},
     "output_type": "execute_result"
    }
   ],
   "source": [
    "no_subject_emails = emails['Email_Body'].apply(lambda text: \"\\n\".join(text.split(\"\\n\")[1:]))\n",
    "emails['Email_Body'] = no_subject_emails\n",
    "emails.head()"
   ]
  },
  {
   "cell_type": "markdown",
   "id": "7ddf912b",
   "metadata": {
    "slideshow": {
     "slide_type": "subslide"
    }
   },
   "source": [
    "Next, lemmatization is used to group together different forms of the same word. \\\n",
    "Ex: 'emails', 'emailing', and 'email' could all be counted as email \\\n",
    "Stop words ('of', 'a', 'the', etc) are also removed by comparing them to a list given by the 'nltk' library"
   ]
  },
  {
   "cell_type": "code",
   "execution_count": 6,
   "id": "c4c756cb",
   "metadata": {
    "slideshow": {
     "slide_type": "fragment"
    }
   },
   "outputs": [
    {
     "name": "stderr",
     "output_type": "stream",
     "text": [
      "[nltk_data] Downloading package stopwords to /Users/admin/nltk_data...\n",
      "[nltk_data]   Package stopwords is already up-to-date!\n",
      "[nltk_data] Downloading package wordnet to /Users/admin/nltk_data...\n",
      "[nltk_data]   Package wordnet is already up-to-date!\n",
      "[nltk_data] Downloading package omw-1.4 to /Users/admin/nltk_data...\n",
      "[nltk_data]   Package omw-1.4 is already up-to-date!\n"
     ]
    },
    {
     "data": {
      "text/plain": [
       "True"
      ]
     },
     "execution_count": 6,
     "metadata": {},
     "output_type": "execute_result"
    }
   ],
   "source": [
    "import nltk\n",
    "from nltk.corpus import stopwords\n",
    "from nltk.stem import WordNetLemmatizer\n",
    "from sklearn.feature_extraction.text import CountVectorizer\n",
    "nltk.download('stopwords')\n",
    "nltk.download('wordnet')\n",
    "nltk.download('omw-1.4')"
   ]
  },
  {
   "cell_type": "code",
   "execution_count": 7,
   "id": "928cf0bc",
   "metadata": {
    "slideshow": {
     "slide_type": "subslide"
    }
   },
   "outputs": [],
   "source": [
    "lemmatizer = WordNetLemmatizer()\n",
    "def clean_text(text):\n",
    "    # Ensure text is a string (this prevents errors)\n",
    "    if isinstance(text, str):\n",
    "        # Convert text to lowercase\n",
    "        text = text.lower()\n",
    "\n",
    "        # Remove punctuation using regex\n",
    "        text = re.sub(r'[^a-z\\s]', ' ', text)\n",
    "\n",
    "        # Remove extra spaces (e.g., multiple spaces)\n",
    "        text = re.sub(r'\\s+', ' ', text).strip()\n",
    "\n",
    "        # Tokenize the text and remove stopwords\n",
    "        stop_words = set(stopwords.words('english'))\n",
    "        tokens = text.split()\n",
    "        \n",
    "        # Lemmatize each word and remove stopwords\n",
    "        tokens = [lemmatizer.lemmatize(word) for word in tokens if word not in stop_words]\n",
    "\n",
    "        # Return the cleaned text (join the tokens into a string)\n",
    "        return ' '.join(tokens)"
   ]
  },
  {
   "cell_type": "code",
   "execution_count": 8,
   "id": "1f3fd88a",
   "metadata": {
    "slideshow": {
     "slide_type": "subslide"
    }
   },
   "outputs": [
    {
     "data": {
      "text/plain": [
       "'update project status based new report scott mill ran sitara come following counterparties one ena selling gas hpl pipe altrade transaction l l c gulf gas utility company brazoria city panther pipeline inc central illinois light company praxair inc central power light company reliant energy entex ce equistar chemical lp reliant energy hl p corpus christi gas marketing lp southern union company h gas company inc texas utility fuel company duke energy field service inc txu gas distribution entex gas marketing company union carbide corporation equistar chemical lp unit gas transmission company inc since sure exactly get entered sitara pat clynes suggested check daren farmer make sure missing something waiting response mary smith begin gathering contractual volume contract forwarded cheryl dudley hou ect cheryl king pm sent cheryl dudley daren j farmer hou ect ect mary smith hou ect ect cc subject ena sale hpl working project brenda herod wondering one could tell right track get everything looking trying draft long term transport storage agreement ena hplc allow ena move gas market order accomplish need know sale customer ena hpl pipe scott mill run report sitara showing ena buy sell activity hpl since eliminate buy desk desk deal give everything need buy sell deal done ena hpl pipe show sitara someone mentioned something deal hpl transport gas behalf ena sell customer spot deal like happen would show sitara anything else missing real familiar deal happen nowadays receptive idea suggestion help offer thanks advance'"
      ]
     },
     "execution_count": 8,
     "metadata": {},
     "output_type": "execute_result"
    }
   ],
   "source": [
    "clean_messages = emails['Email_Body'].apply(clean_text)\n",
    "emails['Email_Body'] = clean_messages\n",
    "emails.iloc[0,0]"
   ]
  },
  {
   "cell_type": "code",
   "execution_count": 9,
   "id": "589912bf",
   "metadata": {
    "slideshow": {
     "slide_type": "subslide"
    }
   },
   "outputs": [
    {
     "data": {
      "text/html": [
       "<div>\n",
       "<style scoped>\n",
       "    .dataframe tbody tr th:only-of-type {\n",
       "        vertical-align: middle;\n",
       "    }\n",
       "\n",
       "    .dataframe tbody tr th {\n",
       "        vertical-align: top;\n",
       "    }\n",
       "\n",
       "    .dataframe thead th {\n",
       "        text-align: right;\n",
       "    }\n",
       "</style>\n",
       "<table border=\"1\" class=\"dataframe\">\n",
       "  <thead>\n",
       "    <tr style=\"text-align: right;\">\n",
       "      <th></th>\n",
       "      <th>aa</th>\n",
       "      <th>aaa</th>\n",
       "      <th>aabda</th>\n",
       "      <th>aabvmmq</th>\n",
       "      <th>aac</th>\n",
       "      <th>aachecar</th>\n",
       "      <th>aafco</th>\n",
       "      <th>aaiabe</th>\n",
       "      <th>aaigrcrb</th>\n",
       "      <th>aaihmqv</th>\n",
       "      <th>...</th>\n",
       "      <th>zynsdirnh</th>\n",
       "      <th>zynve</th>\n",
       "      <th>zyqtaqlt</th>\n",
       "      <th>zyrtec</th>\n",
       "      <th>zyyqywp</th>\n",
       "      <th>zzezrjok</th>\n",
       "      <th>zzn</th>\n",
       "      <th>zzo</th>\n",
       "      <th>zzso</th>\n",
       "      <th>zzsyt</th>\n",
       "    </tr>\n",
       "  </thead>\n",
       "  <tbody>\n",
       "    <tr>\n",
       "      <th>0</th>\n",
       "      <td>0</td>\n",
       "      <td>0</td>\n",
       "      <td>0</td>\n",
       "      <td>0</td>\n",
       "      <td>0</td>\n",
       "      <td>0</td>\n",
       "      <td>0</td>\n",
       "      <td>0</td>\n",
       "      <td>0</td>\n",
       "      <td>0</td>\n",
       "      <td>...</td>\n",
       "      <td>0</td>\n",
       "      <td>0</td>\n",
       "      <td>0</td>\n",
       "      <td>0</td>\n",
       "      <td>0</td>\n",
       "      <td>0</td>\n",
       "      <td>0</td>\n",
       "      <td>0</td>\n",
       "      <td>0</td>\n",
       "      <td>0</td>\n",
       "    </tr>\n",
       "    <tr>\n",
       "      <th>1</th>\n",
       "      <td>0</td>\n",
       "      <td>0</td>\n",
       "      <td>0</td>\n",
       "      <td>0</td>\n",
       "      <td>0</td>\n",
       "      <td>0</td>\n",
       "      <td>0</td>\n",
       "      <td>0</td>\n",
       "      <td>0</td>\n",
       "      <td>0</td>\n",
       "      <td>...</td>\n",
       "      <td>0</td>\n",
       "      <td>0</td>\n",
       "      <td>0</td>\n",
       "      <td>0</td>\n",
       "      <td>0</td>\n",
       "      <td>0</td>\n",
       "      <td>0</td>\n",
       "      <td>0</td>\n",
       "      <td>0</td>\n",
       "      <td>0</td>\n",
       "    </tr>\n",
       "    <tr>\n",
       "      <th>2</th>\n",
       "      <td>0</td>\n",
       "      <td>0</td>\n",
       "      <td>0</td>\n",
       "      <td>0</td>\n",
       "      <td>0</td>\n",
       "      <td>0</td>\n",
       "      <td>0</td>\n",
       "      <td>0</td>\n",
       "      <td>0</td>\n",
       "      <td>0</td>\n",
       "      <td>...</td>\n",
       "      <td>0</td>\n",
       "      <td>0</td>\n",
       "      <td>0</td>\n",
       "      <td>0</td>\n",
       "      <td>0</td>\n",
       "      <td>0</td>\n",
       "      <td>0</td>\n",
       "      <td>0</td>\n",
       "      <td>0</td>\n",
       "      <td>0</td>\n",
       "    </tr>\n",
       "    <tr>\n",
       "      <th>3</th>\n",
       "      <td>0</td>\n",
       "      <td>0</td>\n",
       "      <td>0</td>\n",
       "      <td>0</td>\n",
       "      <td>0</td>\n",
       "      <td>0</td>\n",
       "      <td>0</td>\n",
       "      <td>0</td>\n",
       "      <td>0</td>\n",
       "      <td>0</td>\n",
       "      <td>...</td>\n",
       "      <td>0</td>\n",
       "      <td>0</td>\n",
       "      <td>0</td>\n",
       "      <td>0</td>\n",
       "      <td>0</td>\n",
       "      <td>0</td>\n",
       "      <td>0</td>\n",
       "      <td>0</td>\n",
       "      <td>0</td>\n",
       "      <td>0</td>\n",
       "    </tr>\n",
       "    <tr>\n",
       "      <th>4</th>\n",
       "      <td>0</td>\n",
       "      <td>0</td>\n",
       "      <td>0</td>\n",
       "      <td>0</td>\n",
       "      <td>0</td>\n",
       "      <td>0</td>\n",
       "      <td>0</td>\n",
       "      <td>0</td>\n",
       "      <td>0</td>\n",
       "      <td>0</td>\n",
       "      <td>...</td>\n",
       "      <td>0</td>\n",
       "      <td>0</td>\n",
       "      <td>0</td>\n",
       "      <td>0</td>\n",
       "      <td>0</td>\n",
       "      <td>0</td>\n",
       "      <td>0</td>\n",
       "      <td>0</td>\n",
       "      <td>0</td>\n",
       "      <td>0</td>\n",
       "    </tr>\n",
       "  </tbody>\n",
       "</table>\n",
       "<p>5 rows × 42518 columns</p>\n",
       "</div>"
      ],
      "text/plain": [
       "   aa  aaa  aabda  aabvmmq  aac  aachecar  aafco  aaiabe  aaigrcrb  aaihmqv  \\\n",
       "0   0    0      0        0    0         0      0       0         0        0   \n",
       "1   0    0      0        0    0         0      0       0         0        0   \n",
       "2   0    0      0        0    0         0      0       0         0        0   \n",
       "3   0    0      0        0    0         0      0       0         0        0   \n",
       "4   0    0      0        0    0         0      0       0         0        0   \n",
       "\n",
       "   ...  zynsdirnh  zynve  zyqtaqlt  zyrtec  zyyqywp  zzezrjok  zzn  zzo  zzso  \\\n",
       "0  ...          0      0         0       0        0         0    0    0     0   \n",
       "1  ...          0      0         0       0        0         0    0    0     0   \n",
       "2  ...          0      0         0       0        0         0    0    0     0   \n",
       "3  ...          0      0         0       0        0         0    0    0     0   \n",
       "4  ...          0      0         0       0        0         0    0    0     0   \n",
       "\n",
       "   zzsyt  \n",
       "0      0  \n",
       "1      0  \n",
       "2      0  \n",
       "3      0  \n",
       "4      0  \n",
       "\n",
       "[5 rows x 42518 columns]"
      ]
     },
     "execution_count": 9,
     "metadata": {},
     "output_type": "execute_result"
    }
   ],
   "source": [
    "vectorizer = CountVectorizer()\n",
    "count_words = vectorizer.fit_transform(emails['Email_Body'])\n",
    "word_bag = pd.DataFrame(count_words.toarray(), columns=vectorizer.get_feature_names_out())\n",
    "word_bag.head()"
   ]
  },
  {
   "cell_type": "markdown",
   "id": "4690b942",
   "metadata": {
    "slideshow": {
     "slide_type": "subslide"
    }
   },
   "source": [
    "The top 100 words are taken in order to ease computational difficulty and the dataset is combined with the classification from before."
   ]
  },
  {
   "cell_type": "code",
   "execution_count": 10,
   "id": "025ad6c9",
   "metadata": {
    "slideshow": {
     "slide_type": "fragment"
    }
   },
   "outputs": [
    {
     "data": {
      "text/html": [
       "<div>\n",
       "<style scoped>\n",
       "    .dataframe tbody tr th:only-of-type {\n",
       "        vertical-align: middle;\n",
       "    }\n",
       "\n",
       "    .dataframe tbody tr th {\n",
       "        vertical-align: top;\n",
       "    }\n",
       "\n",
       "    .dataframe thead th {\n",
       "        text-align: right;\n",
       "    }\n",
       "</style>\n",
       "<table border=\"1\" class=\"dataframe\">\n",
       "  <thead>\n",
       "    <tr style=\"text-align: right;\">\n",
       "      <th></th>\n",
       "      <th>ect</th>\n",
       "      <th>hou</th>\n",
       "      <th>enron</th>\n",
       "      <th>com</th>\n",
       "      <th>deal</th>\n",
       "      <th>please</th>\n",
       "      <th>subject</th>\n",
       "      <th>gas</th>\n",
       "      <th>cc</th>\n",
       "      <th>meter</th>\n",
       "      <th>...</th>\n",
       "      <th>today</th>\n",
       "      <th>td</th>\n",
       "      <th>forward</th>\n",
       "      <th>week</th>\n",
       "      <th>year</th>\n",
       "      <th>inc</th>\n",
       "      <th>delivery</th>\n",
       "      <th>nom</th>\n",
       "      <th>free</th>\n",
       "      <th>Spam_Classification</th>\n",
       "    </tr>\n",
       "  </thead>\n",
       "  <tbody>\n",
       "    <tr>\n",
       "      <th>0</th>\n",
       "      <td>5</td>\n",
       "      <td>3</td>\n",
       "      <td>0</td>\n",
       "      <td>0</td>\n",
       "      <td>5</td>\n",
       "      <td>0</td>\n",
       "      <td>1</td>\n",
       "      <td>9</td>\n",
       "      <td>1</td>\n",
       "      <td>0</td>\n",
       "      <td>...</td>\n",
       "      <td>0</td>\n",
       "      <td>0</td>\n",
       "      <td>0</td>\n",
       "      <td>0</td>\n",
       "      <td>0</td>\n",
       "      <td>5</td>\n",
       "      <td>0</td>\n",
       "      <td>0</td>\n",
       "      <td>0</td>\n",
       "      <td>0</td>\n",
       "    </tr>\n",
       "    <tr>\n",
       "      <th>1</th>\n",
       "      <td>0</td>\n",
       "      <td>0</td>\n",
       "      <td>0</td>\n",
       "      <td>0</td>\n",
       "      <td>2</td>\n",
       "      <td>1</td>\n",
       "      <td>0</td>\n",
       "      <td>0</td>\n",
       "      <td>0</td>\n",
       "      <td>3</td>\n",
       "      <td>...</td>\n",
       "      <td>0</td>\n",
       "      <td>0</td>\n",
       "      <td>0</td>\n",
       "      <td>0</td>\n",
       "      <td>0</td>\n",
       "      <td>0</td>\n",
       "      <td>0</td>\n",
       "      <td>0</td>\n",
       "      <td>0</td>\n",
       "      <td>0</td>\n",
       "    </tr>\n",
       "    <tr>\n",
       "      <th>2</th>\n",
       "      <td>0</td>\n",
       "      <td>0</td>\n",
       "      <td>0</td>\n",
       "      <td>0</td>\n",
       "      <td>0</td>\n",
       "      <td>0</td>\n",
       "      <td>0</td>\n",
       "      <td>0</td>\n",
       "      <td>0</td>\n",
       "      <td>0</td>\n",
       "      <td>...</td>\n",
       "      <td>0</td>\n",
       "      <td>0</td>\n",
       "      <td>0</td>\n",
       "      <td>0</td>\n",
       "      <td>0</td>\n",
       "      <td>0</td>\n",
       "      <td>0</td>\n",
       "      <td>0</td>\n",
       "      <td>0</td>\n",
       "      <td>0</td>\n",
       "    </tr>\n",
       "    <tr>\n",
       "      <th>3</th>\n",
       "      <td>3</td>\n",
       "      <td>2</td>\n",
       "      <td>1</td>\n",
       "      <td>0</td>\n",
       "      <td>0</td>\n",
       "      <td>0</td>\n",
       "      <td>1</td>\n",
       "      <td>0</td>\n",
       "      <td>1</td>\n",
       "      <td>1</td>\n",
       "      <td>...</td>\n",
       "      <td>0</td>\n",
       "      <td>0</td>\n",
       "      <td>0</td>\n",
       "      <td>0</td>\n",
       "      <td>0</td>\n",
       "      <td>0</td>\n",
       "      <td>0</td>\n",
       "      <td>2</td>\n",
       "      <td>0</td>\n",
       "      <td>0</td>\n",
       "    </tr>\n",
       "    <tr>\n",
       "      <th>4</th>\n",
       "      <td>15</td>\n",
       "      <td>8</td>\n",
       "      <td>2</td>\n",
       "      <td>0</td>\n",
       "      <td>3</td>\n",
       "      <td>0</td>\n",
       "      <td>1</td>\n",
       "      <td>3</td>\n",
       "      <td>1</td>\n",
       "      <td>1</td>\n",
       "      <td>...</td>\n",
       "      <td>0</td>\n",
       "      <td>0</td>\n",
       "      <td>0</td>\n",
       "      <td>0</td>\n",
       "      <td>0</td>\n",
       "      <td>1</td>\n",
       "      <td>0</td>\n",
       "      <td>0</td>\n",
       "      <td>0</td>\n",
       "      <td>0</td>\n",
       "    </tr>\n",
       "  </tbody>\n",
       "</table>\n",
       "<p>5 rows × 101 columns</p>\n",
       "</div>"
      ],
      "text/plain": [
       "   ect  hou  enron  com  deal  please  subject  gas  cc  meter  ...  today  \\\n",
       "0    5    3      0    0     5       0        1    9   1      0  ...      0   \n",
       "1    0    0      0    0     2       1        0    0   0      3  ...      0   \n",
       "2    0    0      0    0     0       0        0    0   0      0  ...      0   \n",
       "3    3    2      1    0     0       0        1    0   1      1  ...      0   \n",
       "4   15    8      2    0     3       0        1    3   1      1  ...      0   \n",
       "\n",
       "   td  forward  week  year  inc  delivery  nom  free  Spam_Classification  \n",
       "0   0        0     0     0    5         0    0     0                    0  \n",
       "1   0        0     0     0    0         0    0     0                    0  \n",
       "2   0        0     0     0    0         0    0     0                    0  \n",
       "3   0        0     0     0    0         0    2     0                    0  \n",
       "4   0        0     0     0    1         0    0     0                    0  \n",
       "\n",
       "[5 rows x 101 columns]"
      ]
     },
     "execution_count": 10,
     "metadata": {},
     "output_type": "execute_result"
    }
   ],
   "source": [
    "word_counts = word_bag.sum(axis=0)\n",
    "top_100_words = word_counts.nlargest(100).index\n",
    "top_100 = word_bag[top_100_words]\n",
    "rows_with_zeros_100 = top_100.apply(lambda row: (row == 0).all(), axis=1)\n",
    "top_100.reset_index(drop=True, inplace=True)\n",
    "emails.reset_index(drop=True, inplace=True)\n",
    "top_100 = pd.concat([top_100, emails['Spam_Classification']], axis=1)\n",
    "\n",
    "top_100.head()"
   ]
  },
  {
   "cell_type": "code",
   "execution_count": 11,
   "id": "7416cd1f",
   "metadata": {
    "slideshow": {
     "slide_type": "subslide"
    }
   },
   "outputs": [
    {
     "data": {
      "text/plain": [
       "((4862, 101), 1243)"
      ]
     },
     "execution_count": 11,
     "metadata": {},
     "output_type": "execute_result"
    }
   ],
   "source": [
    "top_100 = top_100[~rows_with_zeros_100]\n",
    "top_100.shape, sum(top_100['Spam_Classification'])"
   ]
  },
  {
   "cell_type": "markdown",
   "id": "eea3469d",
   "metadata": {
    "slideshow": {
     "slide_type": "slide"
    }
   },
   "source": [
    "Next we split into train and test datasets."
   ]
  },
  {
   "cell_type": "code",
   "execution_count": 12,
   "id": "08ae2959",
   "metadata": {
    "slideshow": {
     "slide_type": "fragment"
    }
   },
   "outputs": [
    {
     "data": {
      "text/plain": [
       "((4375, 101), 1120, (487, 101), 123)"
      ]
     },
     "execution_count": 12,
     "metadata": {},
     "output_type": "execute_result"
    }
   ],
   "source": [
    "train_100, test_100 = train_test_split(top_100,test_size=0.1,random_state=1093)\n",
    "train_100.shape, train_100['Spam_Classification'].sum(), test_100.shape, test_100['Spam_Classification'].sum()"
   ]
  },
  {
   "cell_type": "markdown",
   "id": "d7ef97c1",
   "metadata": {
    "slideshow": {
     "slide_type": "slide"
    }
   },
   "source": [
    "### Data Analysis\n",
    "\n",
    "The training data set will be passed to R code in order to fit the Positive von Mises-Fisher distribution to the data. From this, a unit vector will be created and the distance of emails from the test data set will be used to determine if the email is spam or not."
   ]
  },
  {
   "cell_type": "code",
   "execution_count": 13,
   "id": "2a86a039",
   "metadata": {
    "slideshow": {
     "slide_type": "fragment"
    }
   },
   "outputs": [],
   "source": [
    "import rpy2.robjects as ro\n",
    "from rpy2.robjects import pandas2ri\n",
    "pandas2ri.activate()"
   ]
  },
  {
   "cell_type": "code",
   "execution_count": 14,
   "id": "3769c303",
   "metadata": {
    "slideshow": {
     "slide_type": "fragment"
    }
   },
   "outputs": [],
   "source": [
    "%load_ext rpy2.ipython"
   ]
  },
  {
   "cell_type": "code",
   "execution_count": 15,
   "id": "934a984a",
   "metadata": {
    "slideshow": {
     "slide_type": "fragment"
    }
   },
   "outputs": [],
   "source": [
    "r_train_100 = pandas2ri.py2rpy(train_100)\n",
    "ro.globalenv['r_train_100'] = r_train_100"
   ]
  },
  {
   "cell_type": "markdown",
   "id": "1481b7e5",
   "metadata": {
    "slideshow": {
     "slide_type": "subslide"
    }
   },
   "source": [
    "#### Positive von Mises-Fisher Distribution\n",
    "\n",
    "Uses vectors that only contain positive components and whose L2 norm equals 1.\n",
    "\n",
    "$$\\boldsymbol{x} = (x_1, x_2, \\dots, x_p) $$\n",
    "\n",
    "$$||\\boldsymbol{x}||_2 = \\sqrt{x_1^2+x_2^2+\\dots+x_p^2} = 1$$\n",
    "\n",
    "The density function is given by\n",
    "\n",
    "$$f(\\boldsymbol{x}|\\boldsymbol{\\mu},\\kappa) = \\left( \\frac{2}{\\pi} \\right) ^{p/2} \\frac{\\kappa^{p/2-1}}{I_\\nu (\\kappa)} \\prod_{i=1}^p \\cosh(\\kappa \\mu_i x_i)$$\n",
    "\n",
    "where $\\boldsymbol{\\mu}$ is a unit vector with L2 norm of 1, and $\\kappa \\geq 0$"
   ]
  },
  {
   "cell_type": "markdown",
   "id": "79b53e03",
   "metadata": {
    "slideshow": {
     "slide_type": "subslide"
    }
   },
   "source": [
    "In order to estimate $\\boldsymbol{\\mu}$ and $\\kappa$, the likelihood of a sample of size $n$ is maximized.\n",
    "\n",
    "$$L(\\boldsymbol{\\mu},\\kappa|\\boldsymbol{x}) = \\prod_{i=1}^n f(\\boldsymbol{x}_i|\\boldsymbol{\\mu},\\kappa)$$\n",
    "\n",
    "This results in\n",
    "\n",
    "$$L(\\boldsymbol{\\mu},\\kappa|\\boldsymbol{x}) = \\prod_{i=1}^n  \\left( \\frac{2}{\\pi} \\right) ^{p/2} \\frac{\\kappa^{p/2-1}}{I_\\nu (\\kappa)} \\prod_{j=1}^p \\cosh(\\kappa \\mu_j x_{ij})$$\n",
    "\n",
    "The values of $\\hat{\\boldsymbol{\\mu}}$ and $\\hat{\\kappa}$ that maximize this function are called the Maximum Likelihood Estimates"
   ]
  },
  {
   "cell_type": "code",
   "execution_count": 16,
   "id": "e897a3e2",
   "metadata": {
    "slideshow": {
     "slide_type": "subslide"
    }
   },
   "outputs": [
    {
     "data": {
      "text/plain": [
       "Loading required package: Rcpp\n",
       "Loading required package: viridisLite\n"
      ]
     },
     "metadata": {},
     "output_type": "display_data"
    }
   ],
   "source": [
    "%%R\n",
    "library(rotasym)\n",
    "library(viridis)\n",
    "library(rgl)\n",
    "library(DirStats)"
   ]
  },
  {
   "cell_type": "code",
   "execution_count": 17,
   "id": "d8fdfc7a",
   "metadata": {
    "slideshow": {
     "slide_type": "subslide"
    }
   },
   "outputs": [],
   "source": [
    "%%R\n",
    "# softplus approach\n",
    "f_vmp_sfp <- function(x, mu = c(sqrt(2) / 2, sqrt(2) / 2, rep(0, ncol(x) - 2)),\n",
    "                      kappa = 1, log = FALSE, x_eps = 11.51) {\n",
    "  \n",
    "  # Parameter checks\n",
    "  x <- rbind(x)\n",
    "  x <- rotasym::check_unit_norm(x)\n",
    "  mu <- abs(rotasym::check_unit_norm(mu))\n",
    "  p <- length(mu)\n",
    "  \n",
    "  # x becomes kappa * (x \\odot mu)\n",
    "  x <- t(t(x) * (kappa * mu))\n",
    "  \n",
    "  # Log-density\n",
    "  dens <- rotasym::c_vMF(p = p, kappa = kappa, log = TRUE) +\n",
    "    rowSums(x) + rowSums(sfp_minus_two(x = x, x_eps = x_eps))\n",
    "  if (!log) {\n",
    "    \n",
    "    dens <- exp(dens)\n",
    "    \n",
    "  }\n",
    "  return(dens)\n",
    "  \n",
    "}\n",
    "\n",
    "# sfp(-2x)\n",
    "sfp_minus_two <- function(x, x_eps = 11.51) {\n",
    "  \n",
    "  sfp_eps <- matrix(0, nrow = nrow(x), ncol = ncol(x))\n",
    "  ind_eps <- x < x_eps\n",
    "  sfp_eps[ind_eps] <- log1p(exp(-2 * x[ind_eps]))\n",
    "  return(sfp_eps)\n",
    "  \n",
    "}\n",
    "# curve(log(sfp_minus_two(rbind(x))), 0, 15)\n",
    "\n",
    "# A_p(\\kappa):=\\frac{\\mathcal{I}_{p/2}(\\kappa)}{\\mathcal{I}_{p/2-1}(\\kappa)}.\n",
    "A_p_kappa <- function(kappa, p, deriv = FALSE) {\n",
    "  \n",
    "  kappa <- abs(kappa)\n",
    "  A <- exp(log(besselI(x = kappa, nu = p / 2, expon.scaled = TRUE)) -\n",
    "             log(besselI(x = kappa, nu = p / 2 - 1, expon.scaled = TRUE)))\n",
    "  A[kappa == 0] <- 0\n",
    "  if (deriv) {\n",
    "    \n",
    "    A <- 1 - A^2 - ((p - 1) / kappa) * A\n",
    "    \n",
    "  }\n",
    "  return(A)\n",
    "  \n",
    "}\n",
    "# Log-likelihood\n",
    "minus_log_lik_vmp <- function(x, mu, log_kappa, x_eps = 11.51) {\n",
    "  \n",
    "  # Log-likelihood\n",
    "  kappa <- exp(log_kappa)\n",
    "  ll <- mean(f_vmp_sfp(x = x, mu = mu, kappa = kappa, log = TRUE,\n",
    "                       x_eps = x_eps))\n",
    "  \n",
    "  # Gradient wrt mu\n",
    "  n <- nrow(x)\n",
    "  p <- ncol(x)\n",
    "  kappa_mu_x <- t(t(x) * (kappa * mu))\n",
    "  x_mu <- colSums(tanh(kappa_mu_x) * x)\n",
    "  ll_grad_mu <- drop((kappa * x_mu) %*% (diag(p) - tcrossprod(mu))) / n\n",
    "  \n",
    "  # Gradient wrt exp(log_kappa) (that's why the multiplication by kappa)\n",
    "  ll_grad_kappa <- (-A_p_kappa(kappa = kappa, p = p) +\n",
    "                      sum(x_mu * mu) / n) * kappa\n",
    "  \n",
    "  # Return minus log-likelihood\n",
    "  attr(ll, \"gradient\") <- -c(ll_grad_mu, ll_grad_kappa)\n",
    "  return(-ll)\n",
    "  \n",
    "}\n",
    "\n",
    "# ML estimation - Modified by Jacob Harris\n",
    "mle_vmp <- function(x, x_eps = 11.51, mu = NULL, kappa = NULL, \n",
    "                    known = \"none\", optfun = \"optim\", ...) {\n",
    "  \n",
    "  # Initial values\n",
    "  p <- ncol(x)\n",
    "  mu <- if (is.null(mu)) DirStats::mu_ml(x) else mu\n",
    "  log_kappa <- if (is.null(kappa)) log(DirStats::kappa_ml(x)) else log(kappa)\n",
    "  \n",
    "  # Optimization\n",
    "  fn <- function(par, known = \"none\", mu0 = NULL, log_kappa0 = NULL) {\n",
    "    if (known == \"mu\"){\n",
    "      mu <- mu0 / norm(mu0,type='2')\n",
    "      log_kappa <- par\n",
    "    } else if (known == 'kappa'){\n",
    "      mu <- par / norm(par,type='2')\n",
    "      log_kappa <- log_kappa0\n",
    "    } else {\n",
    "      mu <- par[1:p]\n",
    "      mu <- mu / sqrt(sum(mu^2))\n",
    "      log_kappa <- par[p + 1]\n",
    "    }\n",
    "    ll <- minus_log_lik_vmp(x = x, mu = mu, log_kappa = log_kappa,\n",
    "                            x_eps = x_eps)\n",
    "    return(ll)\n",
    "    \n",
    "  }\n",
    "  gr <- function(par, known = \"none\", mu0 = NULL, log_kappa0 = NULL) {\n",
    "    if (known == \"mu\"){\n",
    "      mu <- mu0 / norm(mu0,type='2')\n",
    "      log_kappa <- par\n",
    "      ll <- minus_log_lik_vmp(x = x, mu = mu, log_kappa = log_kappa,\n",
    "                              x_eps = x_eps)\n",
    "      return(attr(ll, \"gradient\")[p+1])\n",
    "    } else if (known == 'kappa'){\n",
    "      mu <- par / norm(par,type = '2')\n",
    "      log_kappa <- log_kappa0\n",
    "      ll <- minus_log_lik_vmp(x = x, mu = mu, log_kappa = log_kappa,\n",
    "                              x_eps = x_eps)\n",
    "      return(attr(ll, \"gradient\")[1:p])\n",
    "    } else {\n",
    "      mu <- par[1:p]\n",
    "      mu <- mu / sqrt(sum(mu^2))\n",
    "      log_kappa <- par[p + 1]\n",
    "      ll <- minus_log_lik_vmp(x = x, mu = mu, log_kappa = log_kappa,\n",
    "                              x_eps = x_eps)\n",
    "      return(attr(ll, \"gradient\"))\n",
    "    }\n",
    "\n",
    "    \n",
    "  }\n",
    "  if (optfun == \"nlm\") {\n",
    "    \n",
    "    opt <- nlm(p = c(mu, log_kappa), f = fn, ...)\n",
    "    opt$estimate <- c(\"mu\" = abs(opt$estimate[1:p]) /\n",
    "                        sqrt(sum(opt$estimate[1:p]^2)),\n",
    "                      \"kappa\" = exp(opt$estimate[p + 1]))\n",
    "    \n",
    "  } else if (optfun == \"optim\") {\n",
    "    \n",
    "    if (known == \"mu\"){\n",
    "      \n",
    "      opt <- optim(par = log_kappa, fn = fn, gr = gr, method = \"BFGS\",\n",
    "                   known = \"mu\", mu0 = mu, ...)\n",
    "      opt$par <- c(\"mu\" = mu,\n",
    "                   \"kappa\" = exp(opt$par))\n",
    "      \n",
    "    } else if (known == \"kappa\"){\n",
    "      \n",
    "      opt <- optim(par = mu, fn = fn, gr = gr, method = \"BFGS\",\n",
    "                   known = \"kappa\", log_kappa0 = log_kappa, ...)\n",
    "      opt$par <- c(\"mu\" = abs(opt$par[1:p]) / sqrt(sum(opt$par[1:p]^2)),\n",
    "                   \"kappa\" = kappa)\n",
    "      \n",
    "    } else{\n",
    "      \n",
    "      opt <- optim(par = c(mu, log_kappa), fn = fn, gr = gr, method = \"BFGS\",\n",
    "                   ...)\n",
    "      opt$par <- c(\"mu\" = abs(opt$par[1:p]) / sqrt(sum(opt$par[1:p]^2)),\n",
    "                   \"kappa\" = exp(opt$par[p + 1]))\n",
    "    }\n",
    "    \n",
    "  } else {\n",
    "    \n",
    "    stop(\"Unknown optimizer\")\n",
    "    \n",
    "  }\n",
    "  return(opt)\n",
    "  \n",
    "}"
   ]
  },
  {
   "cell_type": "code",
   "execution_count": 18,
   "id": "fd32e076",
   "metadata": {
    "slideshow": {
     "slide_type": "slide"
    }
   },
   "outputs": [],
   "source": [
    "%%R\n",
    "r_train100_1 <- r_train_100[r_train_100$Spam_Classification==1,-101]\n",
    "r_train100_0 <- r_train_100[r_train_100$Spam_Classification==0,-101]"
   ]
  },
  {
   "cell_type": "code",
   "execution_count": 19,
   "id": "c3f06e0e",
   "metadata": {
    "slideshow": {
     "slide_type": "fragment"
    }
   },
   "outputs": [
    {
     "data": {
      "text/plain": [
       "In addition: Warning messages:\n",
       "1: In check_unit_norm(r_train100_1) :\n",
       "  r_train100_1 does not have unit-norm rows, normalized internally.\n",
       "2: In check_unit_norm(r_train100_0) :\n",
       "  r_train100_0 does not have unit-norm rows, normalized internally.\n"
      ]
     },
     "metadata": {},
     "output_type": "display_data"
    }
   ],
   "source": [
    "%%R\n",
    "r_100_unit1 <- check_unit_norm(r_train100_1)\n",
    "r_100_unit0 <- check_unit_norm(r_train100_0)"
   ]
  },
  {
   "cell_type": "code",
   "execution_count": 36,
   "id": "b8717310",
   "metadata": {
    "slideshow": {
     "slide_type": "subslide"
    }
   },
   "outputs": [
    {
     "name": "stdout",
     "output_type": "stream",
     "text": [
      "4983 3739 3691 3690 4116 \n",
      "   1    1    1    1    1 \n"
     ]
    }
   ],
   "source": [
    "%%R\n",
    "rowSums(r_100_unit1**2)[1:5]"
   ]
  },
  {
   "cell_type": "markdown",
   "id": "79ca15f6",
   "metadata": {
    "slideshow": {
     "slide_type": "subslide"
    }
   },
   "source": [
    "We get the MLEs for the spam and non-spam emails in the training data and pass it back to Python."
   ]
  },
  {
   "cell_type": "code",
   "execution_count": 21,
   "id": "feae50d0",
   "metadata": {
    "slideshow": {
     "slide_type": "fragment"
    }
   },
   "outputs": [],
   "source": [
    "%%R\n",
    "r_spam <- mle_vmp(r_100_unit1)$par\n",
    "r_spam_vec <- r_spam[-101]\n",
    "r_non_spam <- mle_vmp(r_100_unit0)$par\n",
    "r_non_spam_vec <- r_non_spam[-101]"
   ]
  },
  {
   "cell_type": "code",
   "execution_count": 22,
   "id": "4edec53c",
   "metadata": {
    "slideshow": {
     "slide_type": "subslide"
    }
   },
   "outputs": [
    {
     "name": "stdout",
     "output_type": "stream",
     "text": [
      "        mu.ect         mu.hou       mu.enron         mu.com        mu.deal \n",
      "  4.113106e-01   2.184732e-01   4.275755e-01   1.442211e-01   2.970556e-01 \n",
      "     mu.please     mu.subject         mu.gas          mu.cc       mu.meter \n",
      "  2.956925e-01   1.060491e-01   2.266135e-01   9.195835e-04   1.690204e-01 \n",
      "         mu.pm       mu.daren      mu.thanks        mu.need        mu.corp \n",
      "  9.046118e-02   1.301519e-01   1.845595e-01   9.672374e-02   1.737611e-05 \n",
      "        mu.hpl      mu.volume        mu.know         mu.day       mu.price \n",
      "  2.172929e-01   1.210792e-01   1.105065e-01   9.330148e-02   1.710104e-05 \n",
      "    mu.company       mu.mmbtu         mu.new   mu.forwarded         mu.may \n",
      "  3.278280e-05   1.176884e-01   3.719279e-05   4.113648e-05   2.915040e-05 \n",
      "        mu.get        mu.http         mu.see         mu.let      mu.farmer \n",
      "  2.148180e-05   2.665791e-05   1.627203e-01   3.978150e-02   1.794294e-06 \n",
      "   mu.contract mu.information    mu.attached        mu.time       mu.month \n",
      "  2.145260e-03   2.437626e-05   1.943351e-01   2.169220e-05   2.626426e-05 \n",
      "      mu.would          mu.xl     mu.message      mu.change         mu.one \n",
      "  3.493669e-05   2.492468e-01   2.024232e-05   3.466034e-02   2.439582e-05 \n",
      "       mu.sale        mu.mail      mu.robert    mu.question       mu.email \n",
      "  9.959160e-06   3.331028e-05   3.145276e-05   3.410483e-05   1.450398e-05 \n",
      "         mu.th      mu.ticket      mu.sitara       mu.texas        mu.sent \n",
      "  2.747979e-02   2.345382e-05   7.392402e-06   5.388908e-02   2.313623e-05 \n",
      "    mu.service        mu.call        mu.also      mu.energy         mu.www \n",
      "  3.450283e-05   2.019406e-05   4.415887e-05   2.279913e-05   8.186728e-06 \n",
      "     mu.number         mu.pec        mu.file         mu.bob         mu.ena \n",
      "  5.183198e-07   1.686966e-08   1.202413e-01   1.868858e-05   1.027430e-05 \n",
      "     mu.report     mu.product        mu.flow        mu.want        mu.like \n",
      "  1.382976e-05   1.398980e-05   1.228534e-02   1.528706e-05   1.409041e-05 \n",
      "        mu.net   mu.following  mu.production    mu.business     mu.contact \n",
      "  4.185391e-05   3.773869e-05   8.346181e-06   7.927918e-05   7.562611e-06 \n",
      "     mu.system        mu.make        mu.back       mu.order   mu.statement \n",
      "  3.938934e-05   5.127079e-05   1.649146e-05   8.157386e-07   1.405298e-05 \n",
      "      mu.could         mu.per        mu.gary    mu.original        mu.mary \n",
      "  4.494728e-05   1.655509e-05   3.632499e-05   3.154202e-05   9.453074e-06 \n",
      "       mu.well        mu.work        mu.take  mu.nomination          mu.go \n",
      "  3.405619e-05   2.880936e-05   2.734070e-05   7.516389e-04   3.401929e-05 \n",
      "   mu.purchase       mu.daily        mu.list       mu.stock        mu.font \n",
      "  2.904005e-06   4.265884e-03   1.544131e-05   8.700185e-05   1.660057e-05 \n",
      "       mu.help       mu.today          mu.td     mu.forward        mu.week \n",
      "  2.986081e-05   4.393648e-07   0.000000e+00   3.366422e-05   5.237782e-05 \n",
      "       mu.year         mu.inc    mu.delivery         mu.nom        mu.free \n",
      "  3.185443e-05   6.642362e-06   1.266345e-05   5.154183e-06   3.391935e-05 \n",
      "         kappa \n",
      "  3.573400e+01 \n"
     ]
    }
   ],
   "source": [
    "%%R\n",
    "r_non_spam"
   ]
  },
  {
   "cell_type": "code",
   "execution_count": 23,
   "id": "c0164208",
   "metadata": {
    "slideshow": {
     "slide_type": "subslide"
    }
   },
   "outputs": [],
   "source": [
    "r_spam = ro.r['r_spam']\n",
    "r_non_spam = ro.r['r_non_spam']\n",
    "r_spam_mles = ro.r['r_spam_vec']\n",
    "r_non_spam_mles = ro.r['r_non_spam_vec']\n",
    "r_spam = ro.conversion.rpy2py(r_spam).reshape(1,-1)\n",
    "r_non_spam = ro.conversion.rpy2py(r_non_spam).reshape(1,-1)\n",
    "spam_vector = ro.conversion.rpy2py(r_spam_mles).reshape(1,-1)\n",
    "non_spam_vector = ro.conversion.rpy2py(r_non_spam_mles).reshape(1,-1)"
   ]
  },
  {
   "cell_type": "code",
   "execution_count": 24,
   "id": "218be47a",
   "metadata": {
    "slideshow": {
     "slide_type": "fragment"
    }
   },
   "outputs": [
    {
     "data": {
      "text/html": [
       "<div>\n",
       "<style scoped>\n",
       "    .dataframe tbody tr th:only-of-type {\n",
       "        vertical-align: middle;\n",
       "    }\n",
       "\n",
       "    .dataframe tbody tr th {\n",
       "        vertical-align: top;\n",
       "    }\n",
       "\n",
       "    .dataframe thead th {\n",
       "        text-align: right;\n",
       "    }\n",
       "</style>\n",
       "<table border=\"1\" class=\"dataframe\">\n",
       "  <thead>\n",
       "    <tr style=\"text-align: right;\">\n",
       "      <th></th>\n",
       "      <th>ect</th>\n",
       "      <th>hou</th>\n",
       "      <th>enron</th>\n",
       "      <th>com</th>\n",
       "      <th>deal</th>\n",
       "      <th>please</th>\n",
       "      <th>subject</th>\n",
       "      <th>gas</th>\n",
       "      <th>cc</th>\n",
       "      <th>meter</th>\n",
       "      <th>...</th>\n",
       "      <th>help</th>\n",
       "      <th>today</th>\n",
       "      <th>td</th>\n",
       "      <th>forward</th>\n",
       "      <th>week</th>\n",
       "      <th>year</th>\n",
       "      <th>inc</th>\n",
       "      <th>delivery</th>\n",
       "      <th>nom</th>\n",
       "      <th>free</th>\n",
       "    </tr>\n",
       "  </thead>\n",
       "  <tbody>\n",
       "    <tr>\n",
       "      <th>357</th>\n",
       "      <td>0.000000</td>\n",
       "      <td>0.000000</td>\n",
       "      <td>0.894427</td>\n",
       "      <td>0.000000</td>\n",
       "      <td>0.0</td>\n",
       "      <td>0.0</td>\n",
       "      <td>0.000000</td>\n",
       "      <td>0.000000</td>\n",
       "      <td>0.000000</td>\n",
       "      <td>0.0</td>\n",
       "      <td>...</td>\n",
       "      <td>0.0</td>\n",
       "      <td>0.0</td>\n",
       "      <td>0.0</td>\n",
       "      <td>0.0</td>\n",
       "      <td>0.0</td>\n",
       "      <td>0.0</td>\n",
       "      <td>0.0</td>\n",
       "      <td>0.0</td>\n",
       "      <td>0.000000</td>\n",
       "      <td>0.000000</td>\n",
       "    </tr>\n",
       "    <tr>\n",
       "      <th>1504</th>\n",
       "      <td>0.000000</td>\n",
       "      <td>0.000000</td>\n",
       "      <td>0.392232</td>\n",
       "      <td>0.392232</td>\n",
       "      <td>0.0</td>\n",
       "      <td>0.0</td>\n",
       "      <td>0.196116</td>\n",
       "      <td>0.000000</td>\n",
       "      <td>0.196116</td>\n",
       "      <td>0.0</td>\n",
       "      <td>...</td>\n",
       "      <td>0.0</td>\n",
       "      <td>0.0</td>\n",
       "      <td>0.0</td>\n",
       "      <td>0.0</td>\n",
       "      <td>0.0</td>\n",
       "      <td>0.0</td>\n",
       "      <td>0.0</td>\n",
       "      <td>0.0</td>\n",
       "      <td>0.196116</td>\n",
       "      <td>0.000000</td>\n",
       "    </tr>\n",
       "    <tr>\n",
       "      <th>4771</th>\n",
       "      <td>0.000000</td>\n",
       "      <td>0.000000</td>\n",
       "      <td>0.000000</td>\n",
       "      <td>0.688247</td>\n",
       "      <td>0.0</td>\n",
       "      <td>0.0</td>\n",
       "      <td>0.000000</td>\n",
       "      <td>0.000000</td>\n",
       "      <td>0.000000</td>\n",
       "      <td>0.0</td>\n",
       "      <td>...</td>\n",
       "      <td>0.0</td>\n",
       "      <td>0.0</td>\n",
       "      <td>0.0</td>\n",
       "      <td>0.0</td>\n",
       "      <td>0.0</td>\n",
       "      <td>0.0</td>\n",
       "      <td>0.0</td>\n",
       "      <td>0.0</td>\n",
       "      <td>0.000000</td>\n",
       "      <td>0.000000</td>\n",
       "    </tr>\n",
       "    <tr>\n",
       "      <th>1915</th>\n",
       "      <td>0.820553</td>\n",
       "      <td>0.441836</td>\n",
       "      <td>0.000000</td>\n",
       "      <td>0.000000</td>\n",
       "      <td>0.0</td>\n",
       "      <td>0.0</td>\n",
       "      <td>0.063119</td>\n",
       "      <td>0.063119</td>\n",
       "      <td>0.063119</td>\n",
       "      <td>0.0</td>\n",
       "      <td>...</td>\n",
       "      <td>0.0</td>\n",
       "      <td>0.0</td>\n",
       "      <td>0.0</td>\n",
       "      <td>0.0</td>\n",
       "      <td>0.0</td>\n",
       "      <td>0.0</td>\n",
       "      <td>0.0</td>\n",
       "      <td>0.0</td>\n",
       "      <td>0.000000</td>\n",
       "      <td>0.063119</td>\n",
       "    </tr>\n",
       "    <tr>\n",
       "      <th>4537</th>\n",
       "      <td>0.000000</td>\n",
       "      <td>0.000000</td>\n",
       "      <td>0.000000</td>\n",
       "      <td>0.707107</td>\n",
       "      <td>0.0</td>\n",
       "      <td>0.0</td>\n",
       "      <td>0.000000</td>\n",
       "      <td>0.000000</td>\n",
       "      <td>0.000000</td>\n",
       "      <td>0.0</td>\n",
       "      <td>...</td>\n",
       "      <td>0.0</td>\n",
       "      <td>0.0</td>\n",
       "      <td>0.0</td>\n",
       "      <td>0.0</td>\n",
       "      <td>0.0</td>\n",
       "      <td>0.0</td>\n",
       "      <td>0.0</td>\n",
       "      <td>0.0</td>\n",
       "      <td>0.000000</td>\n",
       "      <td>0.000000</td>\n",
       "    </tr>\n",
       "  </tbody>\n",
       "</table>\n",
       "<p>5 rows × 100 columns</p>\n",
       "</div>"
      ],
      "text/plain": [
       "           ect       hou     enron       com  deal  please   subject  \\\n",
       "357   0.000000  0.000000  0.894427  0.000000   0.0     0.0  0.000000   \n",
       "1504  0.000000  0.000000  0.392232  0.392232   0.0     0.0  0.196116   \n",
       "4771  0.000000  0.000000  0.000000  0.688247   0.0     0.0  0.000000   \n",
       "1915  0.820553  0.441836  0.000000  0.000000   0.0     0.0  0.063119   \n",
       "4537  0.000000  0.000000  0.000000  0.707107   0.0     0.0  0.000000   \n",
       "\n",
       "           gas        cc  meter  ...  help  today   td  forward  week  year  \\\n",
       "357   0.000000  0.000000    0.0  ...   0.0    0.0  0.0      0.0   0.0   0.0   \n",
       "1504  0.000000  0.196116    0.0  ...   0.0    0.0  0.0      0.0   0.0   0.0   \n",
       "4771  0.000000  0.000000    0.0  ...   0.0    0.0  0.0      0.0   0.0   0.0   \n",
       "1915  0.063119  0.063119    0.0  ...   0.0    0.0  0.0      0.0   0.0   0.0   \n",
       "4537  0.000000  0.000000    0.0  ...   0.0    0.0  0.0      0.0   0.0   0.0   \n",
       "\n",
       "      inc  delivery       nom      free  \n",
       "357   0.0       0.0  0.000000  0.000000  \n",
       "1504  0.0       0.0  0.196116  0.000000  \n",
       "4771  0.0       0.0  0.000000  0.000000  \n",
       "1915  0.0       0.0  0.000000  0.063119  \n",
       "4537  0.0       0.0  0.000000  0.000000  \n",
       "\n",
       "[5 rows x 100 columns]"
      ]
     },
     "execution_count": 24,
     "metadata": {},
     "output_type": "execute_result"
    }
   ],
   "source": [
    "test_class = test_100['Spam_Classification']\n",
    "test_vec = test_100.iloc[:, :-1]\n",
    "norms = np.linalg.norm(test_vec,axis=1)\n",
    "test_vec = test_vec.div(norms,axis=0)\n",
    "test_vec.head()"
   ]
  },
  {
   "cell_type": "markdown",
   "id": "1264d4bf",
   "metadata": {
    "slideshow": {
     "slide_type": "slide"
    }
   },
   "source": [
    "### Distances Between Two Points\n",
    "\n",
    "Two different distances are used to make decisions for the test data set.\n",
    "\n",
    "Cosine distance: $1 - \\frac{u * v}{||u||_2 ||v||_2}$\n",
    "\n",
    "Minkowski distance: $||u-v||_p$\n",
    "\n",
    "In this case, $p=1$. The euclidean distance returned the same results as the cosine distance"
   ]
  },
  {
   "cell_type": "code",
   "execution_count": 25,
   "id": "23907855",
   "metadata": {
    "slideshow": {
     "slide_type": "subslide"
    }
   },
   "outputs": [],
   "source": [
    "spam_dist_cos = cdist(test_vec, spam_vector,'cosine')\n",
    "non_spam_dist_cos = cdist(test_vec, non_spam_vector,'cosine')\n",
    "spam_dist_minko = cdist(test_vec, spam_vector,'minkowski',p=1.)\n",
    "non_spam_dist_minko = cdist(test_vec, non_spam_vector,'minkowski',p=1.)\n",
    "predicted_cos = (spam_dist_cos < non_spam_dist_cos).astype(int)\n",
    "predicted_minko = (spam_dist_minko < non_spam_dist_minko).astype(int)"
   ]
  },
  {
   "cell_type": "code",
   "execution_count": 26,
   "id": "0e20e5c1",
   "metadata": {
    "slideshow": {
     "slide_type": "subslide"
    }
   },
   "outputs": [
    {
     "data": {
      "image/png": "[encoded data removed]",
      "text/plain": [
       "<Figure size 600x400 with 1 Axes>"
      ]
     },
     "metadata": {},
     "output_type": "display_data"
    }
   ],
   "source": [
    "cm_cos = metrics.confusion_matrix(test_class, predicted_cos)\n",
    "plt.figure(figsize=(6, 4))\n",
    "sns.heatmap(cm_cos, annot=True, fmt='d', cmap='Blues', \n",
    "            xticklabels=['Predicted 0', 'Predicted 1'], yticklabels=['Actual 0', 'Actual 1'],\n",
    "           cbar=False)\n",
    "plt.title('Confusion Matrix')\n",
    "plt.xlabel('Predicted')\n",
    "plt.ylabel('Actual')\n",
    "plt.show()"
   ]
  },
  {
   "cell_type": "code",
   "execution_count": 27,
   "id": "7a3a8b08",
   "metadata": {
    "slideshow": {
     "slide_type": "subslide"
    }
   },
   "outputs": [
    {
     "data": {
      "image/png": "[encoded data removed]",
      "text/plain": [
       "<Figure size 600x400 with 1 Axes>"
      ]
     },
     "metadata": {},
     "output_type": "display_data"
    }
   ],
   "source": [
    "cm_minko = metrics.confusion_matrix(test_class, predicted_minko)\n",
    "plt.figure(figsize=(6, 4))\n",
    "sns.heatmap(cm_minko, annot=True, fmt='d', cmap='Blues', \n",
    "            xticklabels=['Predicted 0', 'Predicted 1'], yticklabels=['Actual 0', 'Actual 1'],\n",
    "           cbar=False)\n",
    "plt.title('Confusion Matrix')\n",
    "plt.xlabel('Predicted')\n",
    "plt.ylabel('Actual')\n",
    "plt.show()"
   ]
  },
  {
   "cell_type": "markdown",
   "id": "9beefe75",
   "metadata": {
    "slideshow": {
     "slide_type": "slide"
    }
   },
   "source": [
    "We can also use the MLEs from the R output to determine the likelihood of each email in the test data set. The unit vestors corresponding to each email are passed through the Positive von Mises-Fisher distribution twice, the first time with the MLEs found from the spam emails and the second time with the MLEs for the non-spam emails. When comparing the output, the result (or likelihood) with the larger value will determine the classification."
   ]
  },
  {
   "cell_type": "code",
   "execution_count": 28,
   "id": "714bc80a",
   "metadata": {
    "slideshow": {
     "slide_type": "subslide"
    }
   },
   "outputs": [],
   "source": [
    "def PvMF(params, df):\n",
    "    params = np.squeeze(params)\n",
    "    p = len(df.columns)\n",
    "    mu = params[:-1]\n",
    "    kappa = params[-1]\n",
    "\n",
    "    besseli = iv(p/2 - 1, kappa)\n",
    "    constant_factor = (2 / np.pi)**(p / 2) * (kappa**(p / 2 - 1)) / besseli\n",
    "\n",
    "    def row_function(xi):\n",
    "        product = np.prod(np.cosh(kappa * mu * xi))  # Element-wise multiplication\n",
    "        return constant_factor * product\n",
    "\n",
    "    return df.apply(row_function, axis=1)\n"
   ]
  },
  {
   "cell_type": "code",
   "execution_count": 29,
   "id": "b08a5ef3",
   "metadata": {
    "slideshow": {
     "slide_type": "subslide"
    }
   },
   "outputs": [],
   "source": [
    "PvMF_spam = PvMF(r_spam, test_vec)\n",
    "PvMF_non_spam = PvMF(r_non_spam, test_vec)"
   ]
  },
  {
   "cell_type": "code",
   "execution_count": 30,
   "id": "555b1019",
   "metadata": {
    "slideshow": {
     "slide_type": "subslide"
    }
   },
   "outputs": [
    {
     "data": {
      "image/png": "[encoded data removed]",
      "text/plain": [
       "<Figure size 600x400 with 1 Axes>"
      ]
     },
     "metadata": {},
     "output_type": "display_data"
    }
   ],
   "source": [
    "PvMF_pred = (PvMF_spam > PvMF_non_spam).astype(int)\n",
    "cm_PvMF = metrics.confusion_matrix(test_class, PvMF_pred)\n",
    "plt.figure(figsize=(6, 4))\n",
    "sns.heatmap(cm_PvMF, annot=True, fmt='d', cmap='Blues', \n",
    "            xticklabels=['Predicted 0', 'Predicted 1'], yticklabels=['Actual 0', 'Actual 1'],\n",
    "           cbar=False)\n",
    "plt.title('Confusion Matrix')\n",
    "plt.xlabel('Predicted')\n",
    "plt.ylabel('Actual')\n",
    "plt.show()"
   ]
  },
  {
   "cell_type": "markdown",
   "id": "a1184afb",
   "metadata": {
    "slideshow": {
     "slide_type": "slide"
    }
   },
   "source": [
    "### Metrics\n",
    "\n",
    "Different metrics can be used to measure the performance of the predicted classes.\n",
    "\n",
    "Accuracy: $\\frac{\\mathrm{TP}+\\mathrm{TN}}{\\mathrm{Total}}$\n",
    "\n",
    "Precision: $\\frac{\\mathrm{TP}}{\\mathrm{TP}+\\mathrm{FP}}$\n",
    "\n",
    "Recall: $\\frac{\\mathrm{TP}}{\\mathrm{TP}+\\mathrm{FN}}$"
   ]
  },
  {
   "cell_type": "code",
   "execution_count": 31,
   "id": "6bb333e2",
   "metadata": {
    "slideshow": {
     "slide_type": "subslide"
    }
   },
   "outputs": [],
   "source": [
    "cos_metrics = {'Accuracy' : metrics.accuracy_score(test_class,predicted_cos), \n",
    "               'Precision' : metrics.precision_score(test_class,predicted_cos),\n",
    "               'Recall' : metrics.recall_score(test_class,predicted_cos)}\n",
    "minko_metrics = {'Accuracy' : metrics.accuracy_score(test_class,predicted_minko),\n",
    "                 'Precision' : metrics.precision_score(test_class,predicted_minko),\n",
    "                 'Recall' : metrics.recall_score(test_class,predicted_minko)}\n",
    "PvMF_metrics = {'Accuracy' : metrics.accuracy_score(test_class,PvMF_pred),\n",
    "                 'Precision' : metrics.precision_score(test_class,PvMF_pred),\n",
    "                 'Recall' : metrics.recall_score(test_class,PvMF_pred)}\n",
    "labels = list(cos_metrics.keys())\n",
    "cos_values = list(cos_metrics.values())\n",
    "minko_values = list(minko_metrics.values())\n",
    "PvMF_values = list(PvMF_metrics.values())\n",
    "index = np.arange(len(labels))"
   ]
  },
  {
   "cell_type": "code",
   "execution_count": 32,
   "id": "47046ae8",
   "metadata": {
    "slideshow": {
     "slide_type": "subslide"
    }
   },
   "outputs": [
    {
     "data": {
      "image/png": "[encoded data removed]",
      "text/plain": [
       "<Figure size 600x400 with 1 Axes>"
      ]
     },
     "metadata": {},
     "output_type": "display_data"
    }
   ],
   "source": [
    "fig, ax = plt.subplots(figsize=(6, 4)) \n",
    "bar1 = ax.bar(index, cos_values, 0.25, label=\"Cos\")\n",
    "bar2 = ax.bar(index + 0.25, minko_values, 0.25, label=\"Minko\")\n",
    "bar3 = ax.bar(index + 0.5, PvMF_values, 0.25, label=\"PvMF\")\n",
    "ax.set_xlabel('Metrics'), ax.set_ylabel('Values'), ax.set_title('Comparison of Metrics')\n",
    "ax.set_xticks(index + 0.5 / 2), ax.set_xticklabels(labels), ax.legend()\n",
    "plt.show()"
   ]
  },
  {
   "cell_type": "markdown",
   "id": "fcbae386",
   "metadata": {
    "slideshow": {
     "slide_type": "slide"
    }
   },
   "source": [
    "#### Logistic Regression\n",
    "\n",
    "The following code provides a logistic regression model trained on the vector data set. The same metrics will be calculated to compare the performance."
   ]
  },
  {
   "cell_type": "code",
   "execution_count": 33,
   "id": "ab03ffca",
   "metadata": {
    "slideshow": {
     "slide_type": "fragment"
    }
   },
   "outputs": [],
   "source": [
    "log_model = LogisticRegression()\n",
    "norms = np.linalg.norm(train_100.iloc[:,:-1],axis=1)\n",
    "X_train = train_100.iloc[:,:-1].div(norms,axis=0)\n",
    "Y_train = train_100['Spam_Classification']\n",
    "log_model.fit(X_train,Y_train)\n",
    "log_pred = log_model.predict(test_vec)\n",
    "log_metrics = {'Accuracy' : metrics.accuracy_score(test_class,log_pred), \n",
    "               'Precision' : metrics.precision_score(test_class,log_pred),\n",
    "               'Recall' : metrics.recall_score(test_class,log_pred)}"
   ]
  },
  {
   "cell_type": "code",
   "execution_count": 34,
   "id": "e479d8d6",
   "metadata": {
    "slideshow": {
     "slide_type": "subslide"
    }
   },
   "outputs": [
    {
     "data": {
      "image/png": "[encoded data removed]",
      "text/plain": [
       "<Figure size 600x400 with 1 Axes>"
      ]
     },
     "metadata": {},
     "output_type": "display_data"
    }
   ],
   "source": [
    "cm_log = metrics.confusion_matrix(test_class, log_pred)\n",
    "plt.figure(figsize=(6, 4))\n",
    "sns.heatmap(cm_log, annot=True, fmt='d', cmap='Blues', \n",
    "            xticklabels=['Predicted 0', 'Predicted 1'], yticklabels=['Actual 0', 'Actual 1'],\n",
    "           cbar=False)\n",
    "plt.title('Confusion Matrix')\n",
    "plt.xlabel('Predicted')\n",
    "plt.ylabel('Actual')\n",
    "plt.show()"
   ]
  },
  {
   "cell_type": "code",
   "execution_count": 35,
   "id": "b1a38ed5",
   "metadata": {
    "slideshow": {
     "slide_type": "subslide"
    }
   },
   "outputs": [
    {
     "name": "stdout",
     "output_type": "stream",
     "text": [
      "Cosine Metrics: {'Accuracy': 0.8726899383983573, 'Precision': 0.6783625730994152, 'Recall': 0.943089430894309}\n",
      "L1 Metrics: {'Accuracy': 0.86652977412731, 'Precision': 0.6959459459459459, 'Recall': 0.8373983739837398}\n",
      "PvMF Metrics: {'Accuracy': 0.8767967145790554, 'Precision': 0.6842105263157895, 'Recall': 0.9512195121951219}\n",
      "Logistic Metrics: {'Accuracy': 0.9240246406570842, 'Precision': 0.8412698412698413, 'Recall': 0.8617886178861789}\n"
     ]
    }
   ],
   "source": [
    "print(\"Cosine Metrics:\", cos_metrics)\n",
    "print(\"L1 Metrics:\", minko_metrics)\n",
    "print(\"PvMF Metrics:\", PvMF_metrics)\n",
    "print(\"Logistic Metrics:\", log_metrics)"
   ]
  },
  {
   "cell_type": "markdown",
   "id": "22641873",
   "metadata": {
    "slideshow": {
     "slide_type": "slide"
    }
   },
   "source": [
    "### Conclusion\n",
    "\n",
    "From the metrics above, the logistic regression model has the best accuracy and precision, with the PvMF likelihood model having the best recall. Depending on the preferred metric, either the logistic regression or the PvMF model would be the best option. It should be noted that the PvMF model does predict a higher number of spam emails than the logistic regression.\n",
    "\n",
    "The limitations of this project include the fact that the testing data influences the training data. Since the bag of words is implemented before the train/test split, the top 100 words chosen may include words found in the testing data but not the training data. This may lead to different metric scores than what should be seen. This project may also be improved by using cross validation in fitting the models to get a better idea of metric scores based on the training data set. One future improvement to the PvMF likelihood model may include the use of a variable to adjust the ratio of likelihoods. The model implemented looks at whether $L_{\\mathrm{spam}}(\\boldsymbol{\\mu},\\kappa|\\boldsymbol{x}) > L_{\\mathrm{non-spam}}(\\boldsymbol{\\mu},\\kappa|\\boldsymbol{x})$ to determine if an email is spam, a future model may use a variable $k$ such that $k*L_{\\mathrm{spam}}(\\boldsymbol{\\mu},\\kappa|\\boldsymbol{x}) > L_{\\mathrm{non-spam}}(\\boldsymbol{\\mu},\\kappa|\\boldsymbol{x})$ can be adjusted."
   ]
  }
 ],
 "metadata": {
  "celltoolbar": "Slideshow",
  "kernelspec": {
   "display_name": "Python 3 (ipykernel)",
   "language": "python",
   "name": "python3"
  },
  "language_info": {
   "codemirror_mode": {
    "name": "ipython",
    "version": 3
   },
   "file_extension": ".py",
   "mimetype": "text/x-python",
   "name": "python",
   "nbconvert_exporter": "python",
   "pygments_lexer": "ipython3",
   "version": "3.9.13"
  }
 },
 "nbformat": 4,
 "nbformat_minor": 5
}
